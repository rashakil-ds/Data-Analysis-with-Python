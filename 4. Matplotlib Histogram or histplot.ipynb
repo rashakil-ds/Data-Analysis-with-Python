{
 "cells": [
  {
   "cell_type": "markdown",
   "id": "135b8d23",
   "metadata": {},
   "source": [
    "**Histogram:** Histograms are used to visualize the distribution of *continuous data.*\n",
    "The x-axis of a histogram represents the range of values (bins) of the continuous variable, and the y-axis represents the frequency or density of occurrences within each bin.\n",
    "Histograms are typically used to show the underlying probability distribution of a continuous variable."
   ]
  },
  {
   "cell_type": "code",
   "execution_count": null,
   "id": "ea6aaf97",
   "metadata": {},
   "outputs": [],
   "source": []
  }
 ],
 "metadata": {
  "kernelspec": {
   "display_name": "Python 3 (ipykernel)",
   "language": "python",
   "name": "python3"
  },
  "language_info": {
   "codemirror_mode": {
    "name": "ipython",
    "version": 3
   },
   "file_extension": ".py",
   "mimetype": "text/x-python",
   "name": "python",
   "nbconvert_exporter": "python",
   "pygments_lexer": "ipython3",
   "version": "3.9.13"
  }
 },
 "nbformat": 4,
 "nbformat_minor": 5
}
